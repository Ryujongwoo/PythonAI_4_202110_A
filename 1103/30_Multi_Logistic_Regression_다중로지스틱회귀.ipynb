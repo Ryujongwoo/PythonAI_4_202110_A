{
 "cells": [
  {
   "cell_type": "code",
   "execution_count": 1,
   "id": "9af8cdc1",
   "metadata": {},
   "outputs": [
    {
     "name": "stdout",
     "output_type": "stream",
     "text": [
      "WARNING:tensorflow:From c:\\python\\lib\\site-packages\\tensorflow\\python\\compat\\v2_compat.py:101: disable_resource_variables (from tensorflow.python.ops.variable_scope) is deprecated and will be removed in a future version.\n",
      "Instructions for updating:\n",
      "non-resource variables are not supported in the long term\n"
     ]
    }
   ],
   "source": [
    "import warnings\n",
    "warnings.filterwarnings('ignore')\n",
    "import numpy as np\n",
    "import pandas as pd\n",
    "import tensorflow.compat.v1 as tf\n",
    "tf.disable_v2_behavior()"
   ]
  },
  {
   "cell_type": "markdown",
   "id": "3a7831eb",
   "metadata": {},
   "source": [
    "학습 데이터를 만든다."
   ]
  },
  {
   "cell_type": "code",
   "execution_count": 2,
   "id": "c406020f",
   "metadata": {},
   "outputs": [
    {
     "name": "stdout",
     "output_type": "stream",
     "text": [
      "[[2, 3], [4, 3], [6, 4], [8, 6], [10, 7], [12, 8], [14, 9]]\n",
      "<class 'list'>\n",
      "[[ 2  3]\n",
      " [ 4  3]\n",
      " [ 6  4]\n",
      " [ 8  6]\n",
      " [10  7]\n",
      " [12  8]\n",
      " [14  9]]\n",
      "<class 'numpy.ndarray'>\n"
     ]
    }
   ],
   "source": [
    "# xData => [공부 시간, 과외 시간]\n",
    "temp = [[2, 3], [4, 3], [6, 4], [8, 6], [10, 7], [12, 8], [14, 9]]\n",
    "print(temp)\n",
    "print(type(temp))\n",
    "\n",
    "xData = np.array(temp)\n",
    "print(xData)\n",
    "print(type(xData))"
   ]
  },
  {
   "cell_type": "code",
   "execution_count": 3,
   "id": "bee702ee",
   "metadata": {},
   "outputs": [
    {
     "name": "stdout",
     "output_type": "stream",
     "text": [
      "[0, 0, 0, 1, 1, 1, 1]\n",
      "<class 'list'>\n",
      "[0 0 0 1 1 1 1]\n",
      "<class 'numpy.ndarray'>\n",
      "[[0]\n",
      " [0]\n",
      " [0]\n",
      " [1]\n",
      " [1]\n",
      " [1]\n",
      " [1]]\n",
      "<class 'numpy.ndarray'>\n"
     ]
    }
   ],
   "source": [
    "# yData => [합격 여부] => 실제값, 0: 불합격, 1: 합격\n",
    "temp = [0, 0, 0, 1, 1, 1, 1]\n",
    "print(temp)\n",
    "print(type(temp))\n",
    "\n",
    "yData = np.array(temp)\n",
    "print(yData)\n",
    "print(type(yData))\n",
    "# reshape() 함수는 데이터는 그대로 유지한 채 배열의 형태(차원, 구조)를 변경한다. 1행 7열 넘파이 배열 => 7행 1열 넘파이 배열\n",
    "yData = np.array(temp).reshape(7, 1)\n",
    "print(yData)\n",
    "print(type(yData))"
   ]
  },
  {
   "cell_type": "markdown",
   "id": "ac007d1e",
   "metadata": {},
   "source": [
    "xData와 yData를 저장할 placeholder를 만든다."
   ]
  },
  {
   "cell_type": "code",
   "execution_count": 4,
   "id": "dc18ce8f",
   "metadata": {},
   "outputs": [],
   "source": [
    "# placeholder에 넘파이 배열을 대입하는 경우 shape 속성을 이용해 대입되는 넘파이 배열의 차원을 지정해줘야 한다.\n",
    "# [None, 2] => placeholder에 대입되는 넘파이 배열의 행의 개수는 몇개라도 상관이 없고 열의 개수는 무조건 2개이다.\n",
    "X = tf.placeholder(dtype=tf.float32, shape=[None, 2]) # xData가 대입될 placeholder\n",
    "Y = tf.placeholder(dtype=tf.float32, shape=[None, 1]) # yData가 대입될 placeholder"
   ]
  },
  {
   "cell_type": "markdown",
   "id": "7e7f9c01",
   "metadata": {},
   "source": [
    "기울기(가중치) a와 y절편(바이어스) b를 임의로 정한다."
   ]
  },
  {
   "cell_type": "code",
   "execution_count": 5,
   "id": "29b52126",
   "metadata": {},
   "outputs": [
    {
     "name": "stdout",
     "output_type": "stream",
     "text": [
      "a: [[0.8595178]\n",
      " [0.6666113]]\n",
      "b: [0.3510437]\n",
      "a1: [0.8595178], a2: [0.6666113], b: [0.3510437]\n"
     ]
    }
   ],
   "source": [
    "a = tf.Variable(tf.random_uniform([2, 1]), dtype=tf.float32) # 난수를 2행 1열로 만든다. => 행렬의 내적을 이용해 처리한다.\n",
    "b = tf.Variable(tf.random_uniform([1]), dtype=tf.float32)\n",
    "\n",
    "sess = tf.Session()\n",
    "sess.run(tf.global_variables_initializer())\n",
    "print('a: {}'.format(sess.run(a)))\n",
    "print('b: {}'.format(sess.run(b)))\n",
    "print('a1: {}, a2: {}, b: {}'.format(sess.run(a)[0], sess.run(a)[1], sess.run(b)))"
   ]
  },
  {
   "cell_type": "markdown",
   "id": "d41e2025",
   "metadata": {},
   "source": [
    "시그모이드 방정식, 오차 함수, 경사 하강"
   ]
  },
  {
   "cell_type": "code",
   "execution_count": 6,
   "id": "dbc96ab5",
   "metadata": {},
   "outputs": [],
   "source": [
    "# sigmoid(): tensorflow에서 시그모이드 방정식을 계산하는 함수\n",
    "# matmul(): tensorflow에서 행렬의 곱셈을 계산하는 함수\n",
    "y = tf.sigmoid(tf.matmul(X, a) + b) # 시그모이드 방정식\n",
    "loss = -tf.reduce_mean(Y * tf.log(y) + (1 - Y) * tf.log(1 - y)) # 오차 함수\n",
    "gradient_descent = tf.train.GradientDescentOptimizer(0.1).minimize(loss) # 경사 하강"
   ]
  },
  {
   "cell_type": "markdown",
   "id": "fa20ff1d",
   "metadata": {},
   "source": [
    "sigmoid() 함수의 실행 결과(y)가 0.5 이상이면 1을 0.5 미만이면 0을 리턴시킨다."
   ]
  },
  {
   "cell_type": "code",
   "execution_count": 7,
   "id": "9b72f1d9",
   "metadata": {},
   "outputs": [
    {
     "name": "stdout",
     "output_type": "stream",
     "text": [
      "0.0\n",
      "1.0\n"
     ]
    }
   ],
   "source": [
    "sess = tf.Session()\n",
    "# cast(캐스팅할 데이터, dtype=캐스팅될 데이터 타입): tensorflow에서 형변환을 하는 함수\n",
    "# predicted = tf.cast(tf.constant([1.9, 2.1]), dtype=tf.int32)\n",
    "# print(sess.run(predicted)) # [1 2]\n",
    "\n",
    "# cast() 함수의 캐스팅할 데이터가 boolean 타입이면 True는 1로 False는 0으로 캐스팅 된다.\n",
    "predicted = tf.cast(0.4 >= 0.5, dtype=tf.float32)\n",
    "print(sess.run(predicted))\n",
    "predicted = tf.cast(0.5 >= 0.5, dtype=tf.float32)\n",
    "print(sess.run(predicted))"
   ]
  },
  {
   "cell_type": "markdown",
   "id": "55659d5f",
   "metadata": {},
   "source": [
    "sigmoid() 함수를 실행한 예상값을 계산한다."
   ]
  },
  {
   "cell_type": "code",
   "execution_count": 8,
   "id": "2eaf2cac",
   "metadata": {},
   "outputs": [],
   "source": [
    "predicted = tf.cast(y >= 0.5, dtype=tf.float32) # 예측값, sigmoid() 함수를 실행한 결과(y)를 0 또는 1로 변환한다.\n",
    "# 예측값이 실제값과 일치하는 정도(정확도)를 계산한다.\n",
    "# equal(): tensorflow에서 인수로 지정된 값이 같으면 True, 다르면 False를 리턴하는 함수\n",
    "# equal() 함수로 예측값(predicted)과 실제값(Y)이 같은가 비교한 후 True 또는 False 결과를 1 또는 0으로 캐스팅히고 시행된 전체\n",
    "# 결과의 평균을 계산한다.\n",
    "accuracy = tf.reduce_mean(tf.cast(tf.equal(predicted, Y), dtype=tf.float32))"
   ]
  },
  {
   "cell_type": "markdown",
   "id": "132f7adc",
   "metadata": {},
   "source": [
    "학습을 시킨다."
   ]
  },
  {
   "cell_type": "code",
   "execution_count": 47,
   "id": "fd13b4f0",
   "metadata": {},
   "outputs": [
    {
     "name": "stdout",
     "output_type": "stream",
     "text": [
      "Epoch:    0, a1:   0.47955, a2:   0.02234, b:   0.91733, loss:   1.76440\n",
      "Epoch:  300, a1:   0.93082, a2:  -0.78180, b:  -2.07075, loss:   0.29012\n",
      "Epoch:  600, a1:   0.90964, a2:  -0.46687, b:  -3.62133, loss:   0.20529\n",
      "Epoch:  900, a1:   0.80354, a2:  -0.10744, b:  -4.73709, loss:   0.15879\n",
      "Epoch: 1200, a1:   0.68707, a2:   0.22354, b:  -5.61450, loss:   0.12890\n",
      "Epoch: 1500, a1:   0.57806, a2:   0.51575, b:  -6.33851, loss:   0.10812\n",
      "Epoch: 1800, a1:   0.48066, a2:   0.77154, b:  -6.95506, loss:   0.09291\n",
      "Epoch: 2100, a1:   0.39494, a2:   0.99592, b:  -7.49203, loss:   0.08135\n",
      "Epoch: 2400, a1:   0.31973, a2:   1.19393, b:  -7.96771, loss:   0.07230\n",
      "Epoch: 2700, a1:   0.25355, a2:   1.36996, b:  -8.39469, loss:   0.06503\n",
      "Epoch: 3000, a1:   0.19504, a2:   1.52765, b:  -8.78208, loss:   0.05908\n",
      "================================================================================\n",
      "공부 시간: 6, 과외 시간: 5\n",
      "합격 여부: 합격, 합격 확률:  50.66%\n",
      "================================================================================\n",
      "공부 시간: 0, 과외 시간:  0 합격 여부: 불합격, 합격 확률:   0.02%\n",
      "공부 시간: 0, 과외 시간:  1 합격 여부: 불합격, 합격 확률:   0.07%\n",
      "공부 시간: 0, 과외 시간:  2 합격 여부: 불합격, 합격 확률:   0.32%\n",
      "공부 시간: 0, 과외 시간:  3 합격 여부: 불합격, 합격 확률:   1.48%\n",
      "공부 시간: 0, 과외 시간:  4 합격 여부: 불합격, 합격 확률:   6.47%\n",
      "공부 시간: 0, 과외 시간:  5 합격 여부: 불합격, 합격 확률:  24.16%\n",
      "공부 시간: 0, 과외 시간:  6 합격 여부:   합격, 합격 확률:  59.48%\n",
      "공부 시간: 0, 과외 시간:  7 합격 여부:   합격, 합격 확률:  87.12%\n",
      "공부 시간: 0, 과외 시간:  8 합격 여부:   합격, 합격 확률:  96.89%\n",
      "공부 시간: 0, 과외 시간:  9 합격 여부:   합격, 합격 확률:  99.31%\n",
      "공부 시간: 0, 과외 시간: 10 합격 여부:   합격, 합격 확률:  99.85%\n"
     ]
    }
   ],
   "source": [
    "sess = tf.Session()\n",
    "sess.run(tf.global_variables_initializer())\n",
    "\n",
    "for i in range(3001):\n",
    "    # sess.run([기울기, y절편, 오차함수, 경사하강], feed_dict={X: 입력 데이터, Y: 입력 데이터에 따른 실제값})\n",
    "    # 연산은 하긴 하는데 사용하지 않을 실행 결과를 기억하는 변수는 '_'로 사용한다.\n",
    "    a_, b_, loss_, _ = sess.run([a, b, loss, gradient_descent], feed_dict={X: xData, Y: yData})\n",
    "    if i % 300 == 0:\n",
    "        # Epoch: 학습 횟수, a1: 공부 시간 기울기, a2: 과외 시간 기울기, b: y절편, loss: 오차함수\n",
    "        # print('Epoch: %4d, a1: %9.5f, a2: %9.5f, b: %9.5f, loss: %9.5f' % (i, a_[0], a_[1], b_, loss_))\n",
    "        print('Epoch: {0:4d}, a1: {1:9.5f}, a2: {2:9.5f}, b: {3:9.5f}, loss: {4:9.5f}'.format(i, a_[0][0], a_[1][0], \n",
    "                            b_[0], loss_))\n",
    "# ===========================================\n",
    "\n",
    "print('=' * 80)\n",
    "# 테스트 데이터를 만든다.\n",
    "# new_x = np.array([6, 5]) # 테스트 데이터가 1차원 넘파이 배열이기 때문에 행렬의 곱셈 연산이 실행되지 않는다.\n",
    "# print(new_x)       # [6 5]   => 1차원\n",
    "# print(new_x.shape) # (2,)    => 1차원\n",
    "# print(new_x.ndim)  # 1       => 1차원\n",
    "# reshape() 함수로 테스트 데이터를 1행 2열인 2차원 넘파이 배열로 변환해야 행렬의 곱셈 연산이 제대로 실행된다.\n",
    "new_x = np.array([6, 5]).reshape(1, 2)\n",
    "# print(new_x)       # [[6 5]] => 2차원\n",
    "# print(new_x.shape) # (1, 2)  => 2차원\n",
    "# print(new_x.ndim)  # 2       => 2차원\n",
    "\n",
    "# sigmoid() 함수의 연산 결과에 테스트 데이터를 대입해서 연산한다.\n",
    "result, new_y = sess.run([predicted, y], feed_dict={X: new_x})\n",
    "# print('공부 시간: {}, 과외 시간: {}'.format(new_x[:, 0][0], new_x[:, 1][0]))\n",
    "# print('공부 시간: {}, 과외 시간: {}'.format(new_x[0, 0], new_x[0, 1]))\n",
    "print('공부 시간: %d, 과외 시간: %d' % (new_x[:, 0], new_x[:, 1]))\n",
    "# print('합격 여부: {0:1.0f}, 합격 확률: {1:6.2f}%'.format(result[0][0], new_y[0][0] * 100))\n",
    "# print('합격 여부: {0:s}, 합격 확률: {1:6.2f}%'.format('합격' if result[0][0] == 1 else '불합격', new_y[0][0] * 100))\n",
    "print('합격 여부: %s, 합격 확률: %6.2f%%' % ('합격' if result[0][0] == 1 else '불합격', new_y[0][0] * 100))\n",
    "print('=' * 80)\n",
    "\n",
    "# 공부는 1시간도 안하고 과외 수업 0 ~ 10 시간을 받았을 때 합격 여부와 합격 확률\n",
    "for i in range(11):\n",
    "    new_x = np.array([0, i]).reshape(1, 2)\n",
    "    result, new_y = sess.run([predicted, y], feed_dict={X: new_x})\n",
    "    print('공부 시간: %d, 과외 시간: %2d' % (new_x[:, 0], new_x[:, 1]), end=' ')\n",
    "    print('합격 여부: %s, 합격 확률: %6.2f%%' % ('  합격' if result[0][0] == 1 else '불합격', new_y[0][0] * 100))"
   ]
  },
  {
   "cell_type": "code",
   "execution_count": null,
   "id": "5e15e91f",
   "metadata": {},
   "outputs": [],
   "source": []
  },
  {
   "cell_type": "code",
   "execution_count": null,
   "id": "c359a248",
   "metadata": {},
   "outputs": [],
   "source": []
  },
  {
   "cell_type": "code",
   "execution_count": null,
   "id": "c61a6b0b",
   "metadata": {},
   "outputs": [],
   "source": []
  },
  {
   "cell_type": "code",
   "execution_count": null,
   "id": "4f808c9f",
   "metadata": {},
   "outputs": [],
   "source": []
  },
  {
   "cell_type": "code",
   "execution_count": null,
   "id": "5148917b",
   "metadata": {},
   "outputs": [],
   "source": []
  },
  {
   "cell_type": "code",
   "execution_count": null,
   "id": "3e7def40",
   "metadata": {},
   "outputs": [],
   "source": []
  }
 ],
 "metadata": {
  "kernelspec": {
   "display_name": "Python 3",
   "language": "python",
   "name": "python3"
  },
  "language_info": {
   "codemirror_mode": {
    "name": "ipython",
    "version": 3
   },
   "file_extension": ".py",
   "mimetype": "text/x-python",
   "name": "python",
   "nbconvert_exporter": "python",
   "pygments_lexer": "ipython3",
   "version": "3.6.8"
  }
 },
 "nbformat": 4,
 "nbformat_minor": 5
}
